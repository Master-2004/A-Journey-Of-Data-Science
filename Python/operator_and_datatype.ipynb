{
 "cells": [
  {
   "cell_type": "code",
   "execution_count": 13,
   "id": "dd3d991a-130b-4078-aa04-e2d4a6282b18",
   "metadata": {},
   "outputs": [
    {
     "name": "stdout",
     "output_type": "stream",
     "text": [
      "5\n",
      "1\n",
      "6\n",
      "1.5\n",
      "9\n",
      "1\n",
      "1\n"
     ]
    }
   ],
   "source": [
    "print(3+2) #addition\n",
    "print(3-2) #subtraction\n",
    "print(3*2) #multiplication\n",
    "print(3/2) # division\n",
    "print(3**2) #exponential\n",
    "print(3%2) #modulus\n",
    "print(3//2) #floor division operator"
   ]
  },
  {
   "cell_type": "code",
   "execution_count": 14,
   "id": "84e723fb-136c-443d-9370-1a6839f8ce49",
   "metadata": {},
   "outputs": [
    {
     "name": "stdout",
     "output_type": "stream",
     "text": [
      "<class 'int'>\n",
      "<class 'float'>\n",
      "<class 'complex'>\n",
      "<class 'str'>\n",
      "<class 'list'>\n",
      "<class 'dict'>\n",
      "<class 'set'>\n",
      "<class 'tuple'>\n",
      "<class 'bool'>\n",
      "<class 'bool'>\n"
     ]
    }
   ],
   "source": [
    "print(type(10))\n",
    "print(type(3.14))\n",
    "print(type(1+3j))\n",
    "print(type('asdfghjklope'))\n",
    "print(type([1,2,3]))\n",
    "print(type({'name':'alok'}))\n",
    "print(type({9.8,3.14,2.7}))\n",
    "print(type((9.8,3.14,2.7)))\n",
    "print(type(3==3))\n",
    "print(type(3>=3))\n"
   ]
  },
  {
   "cell_type": "markdown",
   "id": "6b9784a3-65fe-4ddf-b9c8-02f793a6419e",
   "metadata": {},
   "source": [
    "intrgers"
   ]
  },
  {
   "cell_type": "code",
   "execution_count": 6,
   "id": "012be2c6-e577-4180-93c4-6b3c24413d51",
   "metadata": {},
   "outputs": [
    {
     "name": "stdout",
     "output_type": "stream",
     "text": [
      "Addition:  3\n",
      "Subtraction:  1\n",
      "Multiplication:  6\n",
      "Division:  2.0\n",
      "Division:  3.0\n",
      "Division:  3.5\n",
      "Division without the remainder:  3\n",
      "Modulus:  1\n",
      "Division without the remainder:  2\n",
      "Exponential:  9\n"
     ]
    }
   ],
   "source": [
    "print('Addition: ', 1 + 2)\n",
    "print('Subtraction: ', 2 - 1)\n",
    "print('Multiplication: ', 2 * 3)\n",
    "print ('Division: ', 4 / 2)                         \n",
    "print('Division: ', 6 / 2)\n",
    "print('Division: ', 7 / 2)\n",
    "print('Division without the remainder: ', 7 // 2)   \n",
    "print('Modulus: ', 3 % 2)                           \n",
    "print ('Division without the remainder: ', 7 // 3)\n",
    "print('Exponential: ', 3 ** 2)                     \n"
   ]
  },
  {
   "cell_type": "markdown",
   "id": "303bb8d4-af0e-435b-bb9b-be51c36dd270",
   "metadata": {},
   "source": [
    "float"
   ]
  },
  {
   "cell_type": "code",
   "execution_count": 7,
   "id": "a2d354c5-edd1-4cbb-b036-53470e94a415",
   "metadata": {},
   "outputs": [
    {
     "name": "stdout",
     "output_type": "stream",
     "text": [
      "Floating Number,PI 3.14\n",
      "Floating Number, gravity 9.81\n"
     ]
    }
   ],
   "source": [
    "print('Floating Number,PI', 3.14)\n",
    "print('Floating Number, gravity', 9.81)"
   ]
  },
  {
   "cell_type": "markdown",
   "id": "981ce155-3ff6-4558-b375-f82fbc09fc1b",
   "metadata": {},
   "source": [
    "complex datatype"
   ]
  },
  {
   "cell_type": "code",
   "execution_count": 8,
   "id": "e5a94df4-5f41-4113-afaf-4714192db9c6",
   "metadata": {},
   "outputs": [
    {
     "name": "stdout",
     "output_type": "stream",
     "text": [
      "Complex number:  (1+1j)\n",
      "Multiplying complex number:  (2+0j)\n"
     ]
    }
   ],
   "source": [
    "print('Complex number: ', 1 + 1j)\n",
    "print('Multiplying complex number: ',(1 + 1j) * (1-1j))"
   ]
  },
  {
   "cell_type": "code",
   "execution_count": 10,
   "id": "5f21a80e-c90b-45f8-a761-829905172577",
   "metadata": {},
   "outputs": [],
   "source": [
    "a = 3 \n",
    "b = 2\n",
    "total = a + b\n",
    "diff = a - b\n",
    "product = a * b\n",
    "division = a / b\n",
    "remainder = a % b\n",
    "floor_division = a // b\n",
    "exponential = a ** b"
   ]
  },
  {
   "cell_type": "code",
   "execution_count": 11,
   "id": "7f184f77-6555-4365-b24b-acad18266721",
   "metadata": {},
   "outputs": [
    {
     "name": "stdout",
     "output_type": "stream",
     "text": [
      "5\n",
      "a + b =  5\n",
      "a - b =  1\n",
      "a * b =  6\n",
      "a / b =  1.5\n",
      "a % b =  1\n",
      "a // b =  1\n",
      "a ** b =  9\n"
     ]
    }
   ],
   "source": [
    "print(total) \n",
    "print('a + b = ', total)\n",
    "print('a - b = ', diff)\n",
    "print('a * b = ', product)\n",
    "print('a / b = ', division)\n",
    "print('a % b = ', remainder)\n",
    "print('a // b = ', floor_division)\n",
    "print('a ** b = ', exponential)\n"
   ]
  },
  {
   "cell_type": "code",
   "execution_count": 12,
   "id": "4e9a228a-4faa-487e-b24f-8fc63646ccd0",
   "metadata": {},
   "outputs": [
    {
     "name": "stdout",
     "output_type": "stream",
     "text": [
      "total:  7\n",
      "difference:  1\n",
      "product:  12\n",
      "division:  1.0\n",
      "remainder:  1\n"
     ]
    }
   ],
   "source": [
    "num_one = 3\n",
    "num_two = 4\n",
    "total = num_one + num_two\n",
    "diff = num_two - num_one\n",
    "product = num_one * num_two\n",
    "div = num_two / num_two\n",
    "remainder = num_two % num_one\n",
    "print('total: ', total)\n",
    "print('difference: ', diff)\n",
    "print('product: ', product)\n",
    "print('division: ', div)\n",
    "print('remainder: ', remainder)"
   ]
  },
  {
   "cell_type": "code",
   "execution_count": null,
   "id": "366098af-eafc-45e1-b0d5-3210b89bd690",
   "metadata": {},
   "outputs": [],
   "source": [
    "radius = 10\n",
    "area_of_circle = 3.14 * radius ** 2\n",
    "print('Area of a circle:', area_of_circle)\n"
   ]
  }
 ],
 "metadata": {
  "kernelspec": {
   "display_name": "Python 3 (ipykernel)",
   "language": "python",
   "name": "python3"
  },
  "language_info": {
   "codemirror_mode": {
    "name": "ipython",
    "version": 3
   },
   "file_extension": ".py",
   "mimetype": "text/x-python",
   "name": "python",
   "nbconvert_exporter": "python",
   "pygments_lexer": "ipython3",
   "version": "3.13.5"
  }
 },
 "nbformat": 4,
 "nbformat_minor": 5
}
