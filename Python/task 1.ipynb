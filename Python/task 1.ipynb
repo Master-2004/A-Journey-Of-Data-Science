{
 "cells": [
  {
   "cell_type": "code",
   "execution_count": 1,
   "id": "fc916724-8eb2-4cde-8c65-3d7444354f8b",
   "metadata": {},
   "outputs": [],
   "source": [
    "#this is the first comment \n",
    "spam = 1 # and this is the second comment \n",
    "         #...and now a third \n",
    "text = \"This is not a comment because it's inside quotes .\""
   ]
  },
  {
   "cell_type": "code",
   "execution_count": 2,
   "id": "863c30ff-3933-43f7-a5ca-a746960f42cf",
   "metadata": {},
   "outputs": [
    {
     "data": {
      "text/plain": [
       "4"
      ]
     },
     "execution_count": 2,
     "metadata": {},
     "output_type": "execute_result"
    }
   ],
   "source": [
    "2+2"
   ]
  },
  {
   "cell_type": "code",
   "execution_count": 3,
   "id": "175a1d55-8a0a-460e-8809-806a66ffe50a",
   "metadata": {},
   "outputs": [
    {
     "data": {
      "text/plain": [
       "20"
      ]
     },
     "execution_count": 3,
     "metadata": {},
     "output_type": "execute_result"
    }
   ],
   "source": [
    "50-5*6"
   ]
  },
  {
   "cell_type": "code",
   "execution_count": 4,
   "id": "a193ab0d-6913-4067-b6bf-34aba7cdb7d7",
   "metadata": {},
   "outputs": [
    {
     "data": {
      "text/plain": [
       "5.0"
      ]
     },
     "execution_count": 4,
     "metadata": {},
     "output_type": "execute_result"
    }
   ],
   "source": [
    "(50 -5*6)/4"
   ]
  },
  {
   "cell_type": "code",
   "execution_count": 5,
   "id": "3bbc43e5-09f0-4de3-9add-0aa36f689ec6",
   "metadata": {},
   "outputs": [
    {
     "data": {
      "text/plain": [
       "1.6"
      ]
     },
     "execution_count": 5,
     "metadata": {},
     "output_type": "execute_result"
    }
   ],
   "source": [
    "8/5"
   ]
  },
  {
   "cell_type": "code",
   "execution_count": 6,
   "id": "f7233e6a-9b3e-4809-a984-0eb969762c09",
   "metadata": {},
   "outputs": [
    {
     "data": {
      "text/plain": [
       "5.666666666666667"
      ]
     },
     "execution_count": 6,
     "metadata": {},
     "output_type": "execute_result"
    }
   ],
   "source": [
    "17/3"
   ]
  },
  {
   "cell_type": "code",
   "execution_count": 7,
   "id": "be69a18c-1fc8-4612-a04c-4712cfb928bc",
   "metadata": {},
   "outputs": [
    {
     "data": {
      "text/plain": [
       "5"
      ]
     },
     "execution_count": 7,
     "metadata": {},
     "output_type": "execute_result"
    }
   ],
   "source": [
    "17//3"
   ]
  },
  {
   "cell_type": "code",
   "execution_count": 8,
   "id": "14412c9b-847a-4559-9483-12ec71331e44",
   "metadata": {},
   "outputs": [
    {
     "data": {
      "text/plain": [
       "2"
      ]
     },
     "execution_count": 8,
     "metadata": {},
     "output_type": "execute_result"
    }
   ],
   "source": [
    "17%3"
   ]
  },
  {
   "cell_type": "code",
   "execution_count": 9,
   "id": "7a8c287d-2aa2-4f47-8abd-4070d2a53378",
   "metadata": {},
   "outputs": [
    {
     "data": {
      "text/plain": [
       "17"
      ]
     },
     "execution_count": 9,
     "metadata": {},
     "output_type": "execute_result"
    }
   ],
   "source": [
    "5*3+2"
   ]
  },
  {
   "cell_type": "code",
   "execution_count": 10,
   "id": "50b1d4b3-fac8-4e72-9f63-73cbfd2f05f4",
   "metadata": {},
   "outputs": [
    {
     "data": {
      "text/plain": [
       "25"
      ]
     },
     "execution_count": 10,
     "metadata": {},
     "output_type": "execute_result"
    }
   ],
   "source": [
    "5**2"
   ]
  },
  {
   "cell_type": "code",
   "execution_count": 11,
   "id": "ca3e7600-3014-4bf4-a78a-9e8b0331397b",
   "metadata": {},
   "outputs": [
    {
     "data": {
      "text/plain": [
       "128"
      ]
     },
     "execution_count": 11,
     "metadata": {},
     "output_type": "execute_result"
    }
   ],
   "source": [
    "2**7"
   ]
  },
  {
   "cell_type": "code",
   "execution_count": 12,
   "id": "b497a109-32dc-4a3d-aa61-ffb4081bc8e6",
   "metadata": {},
   "outputs": [
    {
     "data": {
      "text/plain": [
       "900"
      ]
     },
     "execution_count": 12,
     "metadata": {},
     "output_type": "execute_result"
    }
   ],
   "source": [
    "wide = 20\n",
    "height= 5 * 9\n",
    "wide*height"
   ]
  },
  {
   "cell_type": "code",
   "execution_count": 13,
   "id": "aa23f90b-2742-4874-94f7-3712fe96e686",
   "metadata": {},
   "outputs": [
    {
     "ename": "NameError",
     "evalue": "name 'n' is not defined",
     "output_type": "error",
     "traceback": [
      "\u001b[1;31m---------------------------------------------------------------------------\u001b[0m",
      "\u001b[1;31mNameError\u001b[0m                                 Traceback (most recent call last)",
      "Cell \u001b[1;32mIn[13], line 1\u001b[0m\n\u001b[1;32m----> 1\u001b[0m n\n",
      "\u001b[1;31mNameError\u001b[0m: name 'n' is not defined"
     ]
    }
   ],
   "source": [
    "n"
   ]
  },
  {
   "cell_type": "code",
   "execution_count": null,
   "id": "f3e8a110-5c26-4446-bca1-a0a9bbfc5322",
   "metadata": {},
   "outputs": [],
   "source": [
    "4*3.75-1"
   ]
  },
  {
   "cell_type": "code",
   "execution_count": null,
   "id": "b3ceaf23-c875-42e6-8d7c-c57051a8e4ec",
   "metadata": {},
   "outputs": [],
   "source": [
    "tax =12.5/100\n",
    "price=100.50\n",
    "price*tax"
   ]
  },
  {
   "cell_type": "code",
   "execution_count": null,
   "id": "1f8a424d-df45-40bd-8f62-21f083cc859d",
   "metadata": {},
   "outputs": [],
   "source": [
    "price+_"
   ]
  },
  {
   "cell_type": "code",
   "execution_count": null,
   "id": "904b4cb3-2025-4a95-80e7-27bed6da8f6c",
   "metadata": {},
   "outputs": [],
   "source": [
    "round(_,2)"
   ]
  },
  {
   "cell_type": "code",
   "execution_count": null,
   "id": "8ca002bc-0fc3-4cac-bb3b-bd8977a859b9",
   "metadata": {},
   "outputs": [],
   "source": [
    "'spam eggs '"
   ]
  },
  {
   "cell_type": "code",
   "execution_count": null,
   "id": "89223c85-bdda-4d2b-82f4-0a9094bddcf5",
   "metadata": {},
   "outputs": [],
   "source": [
    "\"paris rabbit got your back :)!Yaay!\""
   ]
  },
  {
   "cell_type": "code",
   "execution_count": null,
   "id": "8db6a930-86d4-4670-bd12-53471b90a778",
   "metadata": {},
   "outputs": [],
   "source": [
    "'1975'"
   ]
  },
  {
   "cell_type": "code",
   "execution_count": null,
   "id": "9f71c2d2-d703-413a-98fe-b88a23eb6843",
   "metadata": {},
   "outputs": [],
   "source": [
    "'doesn\\'t'"
   ]
  },
  {
   "cell_type": "code",
   "execution_count": null,
   "id": "5b6895d4-2d07-4dca-b6c9-7c56c14b8e1c",
   "metadata": {},
   "outputs": [],
   "source": [
    "\"doesn't\""
   ]
  },
  {
   "cell_type": "code",
   "execution_count": null,
   "id": "c5ffac8b-145b-491c-b433-8a4520f0ba35",
   "metadata": {},
   "outputs": [],
   "source": [
    "'\"Yes\"they said.'"
   ]
  },
  {
   "cell_type": "code",
   "execution_count": null,
   "id": "7e0c3174-4b40-40e3-b92b-73b526d94d42",
   "metadata": {},
   "outputs": [],
   "source": [
    "\"\\\"Yes,\\\"they said.\""
   ]
  },
  {
   "cell_type": "code",
   "execution_count": null,
   "id": "3bca5e0b-2bf2-4a22-b9e6-e54fe4b0f67f",
   "metadata": {},
   "outputs": [],
   "source": [
    "'\"Isn\\'t,\"they said.'"
   ]
  },
  {
   "cell_type": "code",
   "execution_count": null,
   "id": "dfd06260-3df5-4707-8b01-320d264176f7",
   "metadata": {},
   "outputs": [],
   "source": [
    "s='First line.\\nSecond line'\n",
    "s"
   ]
  },
  {
   "cell_type": "code",
   "execution_count": null,
   "id": "e9d45943-d5c6-4018-9561-e1a3e9f6bdd7",
   "metadata": {},
   "outputs": [],
   "source": [
    "print(s)"
   ]
  },
  {
   "cell_type": "code",
   "execution_count": null,
   "id": "033a7a33-f42d-4327-983d-377b45ff5774",
   "metadata": {},
   "outputs": [],
   "source": [
    "print('C:\\shivam\\yadav')"
   ]
  },
  {
   "cell_type": "code",
   "execution_count": null,
   "id": "b9f2f92c-37c8-43cd-bef8-63b8fc68f6f2",
   "metadata": {},
   "outputs": [],
   "source": [
    "print(\"\"\"\\\n",
    "      Usage thing [OPTIONS]\n",
    "      -h\n",
    "      -H hostname\n",
    "      \"\"\")"
   ]
  },
  {
   "cell_type": "code",
   "execution_count": null,
   "id": "425b46f1-e620-4b43-93f5-224c5e7ed5d3",
   "metadata": {},
   "outputs": [],
   "source": [
    "3*'un' +'ium'"
   ]
  },
  {
   "cell_type": "code",
   "execution_count": null,
   "id": "36f90775-b14a-49f9-a7b7-567d61b013be",
   "metadata": {},
   "outputs": [],
   "source": [
    "'py' 'thon'"
   ]
  },
  {
   "cell_type": "code",
   "execution_count": null,
   "id": "61e50391-e78c-460e-8896-aecc6c134e0d",
   "metadata": {},
   "outputs": [],
   "source": [
    "text = ('Put several strings within parentheses'\n",
    "       'to have them joined togerther')\n",
    "text"
   ]
  },
  {
   "cell_type": "code",
   "execution_count": null,
   "id": "a18ee68d-5045-4fbd-861d-0be9c6233805",
   "metadata": {},
   "outputs": [],
   "source": [
    "prefix='py'\n",
    "prefix+'thon'\n",
    "File \"<stdin>\",line 1\n",
    "    ('un'*3)'ium'"
   ]
  },
  {
   "cell_type": "code",
   "execution_count": null,
   "id": "7b28c049-be68-4892-9306-1a097cea4aac",
   "metadata": {},
   "outputs": [],
   "source": [
    "word='python'\n",
    "word[0]"
   ]
  },
  {
   "cell_type": "code",
   "execution_count": null,
   "id": "d6385db3-7c5e-4687-b7ee-99d025c6555d",
   "metadata": {},
   "outputs": [],
   "source": [
    "word[5]\n"
   ]
  },
  {
   "cell_type": "code",
   "execution_count": null,
   "id": "3e5fb4d1-779c-4c3d-81ae-24eb39d02b54",
   "metadata": {},
   "outputs": [],
   "source": [
    "print (word[-1])\n",
    "print (word[-2])\n",
    "print (word[-6])\n",
    "print (word[0:2])\n",
    "print (word[2:5])\n",
    "print (word[:2])\n",
    "print (word[4:])\n",
    "print (word[-2:])\n",
    "\n",
    "\n",
    "\n",
    "\n",
    "\n",
    "\n",
    "\n",
    "\n",
    "\n",
    "\n",
    "\n"
   ]
  },
  {
   "cell_type": "code",
   "execution_count": null,
   "id": "8d546268-9652-4c76-a753-8cc5cf1dd3df",
   "metadata": {},
   "outputs": [],
   "source": [
    "squares=[1,4,9,16,25]\n",
    "psquares"
   ]
  },
  {
   "cell_type": "code",
   "execution_count": null,
   "id": "d83374cf-2399-4835-bf99-80fd3950f8b4",
   "metadata": {},
   "outputs": [],
   "source": [
    " print (squares[0])\n",
    " print (squares[-1])\n",
    " print (squares[-3:])\n"
   ]
  },
  {
   "cell_type": "code",
   "execution_count": null,
   "id": "bd6bb790-bf0d-4103-8777-7ff489f7da09",
   "metadata": {},
   "outputs": [],
   "source": [
    "squares+[36,49,64,81,100]"
   ]
  },
  {
   "cell_type": "code",
   "execution_count": null,
   "id": "708d258c-8728-4d6f-9d13-885653b4f39e",
   "metadata": {},
   "outputs": [],
   "source": [
    "cubes=[1,8,27,65,125]\n",
    "4**3"
   ]
  },
  {
   "cell_type": "code",
   "execution_count": null,
   "id": "32135a69-1b00-4e18-8998-f8d083e50c89",
   "metadata": {},
   "outputs": [],
   "source": [
    "cubes[3]=64\n",
    "cubes"
   ]
  },
  {
   "cell_type": "code",
   "execution_count": null,
   "id": "76b2d5a0-f928-44a4-acda-47db1458ad6e",
   "metadata": {},
   "outputs": [],
   "source": [
    "cubes.append(216)\n",
    "cubes.append(7**3)\n",
    "cubes\n"
   ]
  },
  {
   "cell_type": "code",
   "execution_count": null,
   "id": "8ad90580-09cf-424c-b01d-9515faebc08d",
   "metadata": {},
   "outputs": [],
   "source": [
    "rgb=[\"Red\",\"Green\",\"Blue\"]\n",
    "rgba=rgb\n",
    "id(rgb)==id(rgba)"
   ]
  },
  {
   "cell_type": "code",
   "execution_count": null,
   "id": "bd98b52c-38b9-4968-8646-f6f4c863b9f1",
   "metadata": {},
   "outputs": [],
   "source": [
    "rgba.append(\"Alph\")\n",
    "rgb"
   ]
  },
  {
   "cell_type": "code",
   "execution_count": null,
   "id": "77f42028-2235-4463-b71d-7a11d140423d",
   "metadata": {},
   "outputs": [],
   "source": [
    "correct_rgba=rgba[:]\n",
    "correct_rgba[-1]=\"Alpha\"\n",
    "correct_rgba"
   ]
  },
  {
   "cell_type": "code",
   "execution_count": null,
   "id": "a17d1484-587a-4484-b862-1aaa7d05b616",
   "metadata": {},
   "outputs": [],
   "source": [
    "rgba"
   ]
  },
  {
   "cell_type": "code",
   "execution_count": null,
   "id": "49e1c04b-0bcd-4b55-ae4b-7d3a220a5bbc",
   "metadata": {},
   "outputs": [],
   "source": [
    "letters =['a','b','c','d','e','f','g']\n",
    "letters"
   ]
  },
  {
   "cell_type": "code",
   "execution_count": null,
   "id": "a97fe044-79ce-40f6-9df6-2641ff726ea5",
   "metadata": {},
   "outputs": [],
   "source": [
    "letters[2:5]=['C','D','E']\n",
    "letters"
   ]
  },
  {
   "cell_type": "code",
   "execution_count": null,
   "id": "6c01e196-558a-4c9f-ba93-5592ab7a06b1",
   "metadata": {},
   "outputs": [],
   "source": [
    "letters[2:5]=[]\n",
    "letters"
   ]
  },
  {
   "cell_type": "code",
   "execution_count": null,
   "id": "f87f94ae-6acd-4b04-85f9-a292c8da535e",
   "metadata": {},
   "outputs": [],
   "source": [
    "letters[:]=[]\n",
    "letters"
   ]
  },
  {
   "cell_type": "code",
   "execution_count": null,
   "id": "00caee17-b073-4ce1-8ec9-55fe0ff3012f",
   "metadata": {},
   "outputs": [],
   "source": [
    "letters = ['a','b','c','d']\n",
    "len(letters)"
   ]
  },
  {
   "cell_type": "code",
   "execution_count": 14,
   "id": "0105b6a3-21a2-48ba-9ef1-a5faac001ce9",
   "metadata": {},
   "outputs": [
    {
     "data": {
      "text/plain": [
       "[['a', 'b,c'], [1, 2, 3]]"
      ]
     },
     "execution_count": 14,
     "metadata": {},
     "output_type": "execute_result"
    }
   ],
   "source": [
    "a=['a','b,''c']\n",
    "n=[1,2,3]\n",
    "x=[a,n]\n",
    "x"
   ]
  },
  {
   "cell_type": "code",
   "execution_count": 15,
   "id": "5ef8db21-8752-494a-9356-6b520b398458",
   "metadata": {},
   "outputs": [
    {
     "data": {
      "text/plain": [
       "['a', 'b,c']"
      ]
     },
     "execution_count": 15,
     "metadata": {},
     "output_type": "execute_result"
    }
   ],
   "source": [
    "x[0]"
   ]
  },
  {
   "cell_type": "code",
   "execution_count": 16,
   "id": "2c22e2c6-cadf-45c6-a6da-2f4380d94375",
   "metadata": {},
   "outputs": [
    {
     "data": {
      "text/plain": [
       "'b,c'"
      ]
     },
     "execution_count": 16,
     "metadata": {},
     "output_type": "execute_result"
    }
   ],
   "source": [
    "x[0][1]"
   ]
  },
  {
   "cell_type": "code",
   "execution_count": 17,
   "id": "76b2bb1d-f9a9-44b5-a481-f9a7b4204415",
   "metadata": {},
   "outputs": [
    {
     "name": "stdout",
     "output_type": "stream",
     "text": [
      "0\n",
      "1\n",
      "1\n",
      "2\n",
      "3\n",
      "5\n",
      "8\n"
     ]
    }
   ],
   "source": [
    "a,b=0,1\n",
    "while a<10:\n",
    "    print(a)\n",
    "    a,b=b,a+b"
   ]
  },
  {
   "cell_type": "code",
   "execution_count": 18,
   "id": "a45fb7a3-fdad-41eb-a74f-005a97c763f6",
   "metadata": {},
   "outputs": [
    {
     "name": "stdout",
     "output_type": "stream",
     "text": [
      "The value of i is 65536\n"
     ]
    }
   ],
   "source": [
    "i =256*256\n",
    "print ('The value of i is',i)"
   ]
  },
  {
   "cell_type": "code",
   "execution_count": 19,
   "id": "fe0ef709-d9a2-4d7f-a062-4bd69b608aba",
   "metadata": {},
   "outputs": [
    {
     "name": "stdout",
     "output_type": "stream",
     "text": [
      "0,1,1,2,3,5,8,13,21,34,55,89,144,233,377,610,987,"
     ]
    }
   ],
   "source": [
    "a,b=0,1\n",
    "while a <1000:\n",
    "    print(a,end=',')\n",
    "    a,b=b,a+b"
   ]
  },
  {
   "cell_type": "code",
   "execution_count": null,
   "id": "9db95caf-623c-455e-ab30-aee3b95f0a9c",
   "metadata": {},
   "outputs": [],
   "source": []
  }
 ],
 "metadata": {
  "kernelspec": {
   "display_name": "Python 3 (ipykernel)",
   "language": "python",
   "name": "python3"
  },
  "language_info": {
   "codemirror_mode": {
    "name": "ipython",
    "version": 3
   },
   "file_extension": ".py",
   "mimetype": "text/x-python",
   "name": "python",
   "nbconvert_exporter": "python",
   "pygments_lexer": "ipython3",
   "version": "3.13.5"
  }
 },
 "nbformat": 4,
 "nbformat_minor": 5
}
